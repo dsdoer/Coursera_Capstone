{
    "nbformat_minor": 1, 
    "cells": [
        {
            "source": "### Week 1 Assignment - Battle of the Neighborhoods", 
            "cell_type": "markdown", 
            "metadata": {
                "collapsed": true
            }
        }, 
        {
            "source": "This is my week 1 submission that includes the following:\n\u2022\tA description of the problem and a discussion of the background\n\u2022\tA description of the data and how it will be used to solve the problem\n\nThe Battle of Neighborhoods Report\n\n[Introduction] Companies seek to optimize their marketing efforts consumers in order to attract more and better sales leads. In order to achieve this goal, companies must understand and respond to consumers\u2019 needs and desires. They need to communicate their offerings in ways that customer\u2019s will find acceptable. Moreover, consumers must be able to find and make choices based on their unique situations. In other words, a customer\u2019s personal perspectives lay on the opposite side of the companies\u2019 targeting focus. This report demonstrates an approach to creating customer profiles based on grouping using certain shared characteristics of their historical data.\nProblem Statement\n\n[Problem] The general problem is that companies need to identify more and better prospects. The specific problem is that housing suppliers and consumers find that the data needed to make informed decisions regarding housing is often not readily available. Consumers in the housing market may find that the information they need is spread out in multiple sources and locations. The specific problem is that prospective customers can\u2019t efficiently compare neighborhoods with their needs and desires. This problem leaves interested parties with research and analysis tasks to do. On the other hand, suppliers that can segment prospects can target their marketing in ways to focus their communications, products, and services effectively.\n\n[The background (evidence, data already collected)] The study titled HADS Data derived from AHS National Data (2019) is a government survey that records US nationwide housing data. Anecdotal observations also suggest that consumers also use other factors about neighborhoods they are considering for housing options. Foursquare.com created a database that contains information about events and venues in neighborhoods that enhances the creation of clusters. It is rational to infer that companies should seek to understand buyers and renters from a detailed analysis of their key characteristics.\n\n[The audience house buyers, renters, companies, government] The most desirable neighborhoods appeal equally to buyers and renters. The HUD survey contains data about housing affordability using an economic lens. The Foursquare data on business venues provides addition quality-of-living features that both types of housing prospects may find useful. This report may be useful to companies involved in the housing market, in addition to city and community planners because the analysis identifies the general characteristics of neighborhoods and residents. According to Coursera/IBM Applied Data Science Course (2019), data scientists commonly use clustering techniques to segment prospects, and customers. Managers can use the customer segments as the basis for targeting purposes, such as, unique and specific marketing communications, personalized engagement and guidance, service and support, as well as other customer experience approaches. This scope of this project is limited to the \u2018West\u2019 region as described in the HUD survey, and zip codes within the City of San Jose.\n\n[The question (researchable, addresses the [significant] problem)] The main question regarding creating customer profiles and segments in the housing market is:\nQuestion 1: What are the primary characteristics of house buyers and renters in the City of San Jose?\n\n[Methodology research method (design/collecting, measurement/recording data, and analysis/interpreting data]\nEach row in the HUD dataset represents a housing unit; it will be assigned a label for k-means clustering into feature groups. Other HUD data provide the following items: 1. Age of head of household, 2. household income, 3. Income relative to median income, 4. Cost of homes relative to median income, 5. Housing costs, 6. Fair market rent, 7. Census region.\n\nData extracted from the Foursquare Database are used to enhance the analysis with the types of venues located within the neighborhoods. Therefore, the customer segments, or clusters represent groups of shared characteristics. Individual profiles reflect the head of household\u2019s characteristics in relation to the types of units they live in, their income, their own versus rent status, and comparisons to known averages. \n\nTable 1. Data Variables\n\nCustomer_Id\nAge of head of household\nHousehold Income\nHH Income Relative to Median Income (Category)\nCost at 6% Relative to Median Income (Category)\nHousing_cost\nFair_Mkt_Rent(avg)\nCensus_REGION\nPostal Code\n\n\nThis report focuses on identifying consumer groups using some of the common characteristics identified among them related to housing features. k-Means Clustering is a popular customer segmentation technique that is widely accepted for this type of study. The k-Means approach creates clusters based on the similarities between customer profiles using the data items listed in Table 1. \n\nThe process steps are listed below:\n1.\tData Acquisition: A csv file was created by extracting variables from the HUD dataset.\n2.\tPreprocessing: The csv file was used to create a Pandas dataframe for the analysis. The dataframe was normalized using SKLearn StandardScaler().\n3.\tThe dataframe was sliced to select only the \u2018West\u201d region rows.\n4.\tPostal Codes for San Jose, CA were found for use in searching for neighborhood venues via geolocation and the Foursquare API\n5.\tModelling: k-Means processing was used to create clusters\n6.\tAnalysis was done by identifying the means values associated the key profile indicators within cluster groups. Then, created textual labels for the groups \n", 
            "cell_type": "markdown", 
            "metadata": {}
        }, 
        {
            "execution_count": null, 
            "cell_type": "code", 
            "metadata": {}, 
            "outputs": [], 
            "source": ""
        }
    ], 
    "metadata": {
        "kernelspec": {
            "display_name": "Python 3.5", 
            "name": "python3", 
            "language": "python"
        }, 
        "language_info": {
            "mimetype": "text/x-python", 
            "nbconvert_exporter": "python", 
            "version": "3.5.5", 
            "name": "python", 
            "file_extension": ".py", 
            "pygments_lexer": "ipython3", 
            "codemirror_mode": {
                "version": 3, 
                "name": "ipython"
            }
        }
    }, 
    "nbformat": 4
}